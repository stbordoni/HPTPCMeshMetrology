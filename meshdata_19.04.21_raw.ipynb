{
 "metadata": {
  "language_info": {
   "codemirror_mode": {
    "name": "ipython",
    "version": 3
   },
   "file_extension": ".py",
   "mimetype": "text/x-python",
   "name": "python",
   "nbconvert_exporter": "python",
   "pygments_lexer": "ipython3",
   "version": "3.9.2"
  },
  "orig_nbformat": 2,
  "kernelspec": {
   "name": "pythonjvsc74a57bd078915ee5638daade56b892f26ecea0a2558ed83d5cea936745dd0bd3e277683e",
   "display_name": "Python 3.9.2  ('.venv': venv)"
  },
  "metadata": {
   "interpreter": {
    "hash": "78915ee5638daade56b892f26ecea0a2558ed83d5cea936745dd0bd3e277683e"
   }
  }
 },
 "nbformat": 4,
 "nbformat_minor": 2,
 "cells": [
  {
   "cell_type": "code",
   "execution_count": null,
   "metadata": {},
   "outputs": [],
   "source": [
    "import pandas as pd\n",
    "import numpy as np\n",
    "import matplotlib  \n",
    "import matplotlib.pyplot as plt\n",
    "import plotly.graph_objects as go\n",
    "\n",
    "from scipy.stats import mode"
   ]
  },
  {
   "source": [
    "df = pd.read_csv('./19.04.21/TPC_Mesh_original.xyz', delimiter = ' ', header=None)\n",
    "df = df.rename(columns={0: 'x', 1: 'y', 2:'z'})\n",
    "df.head(10)\n",
    "df.head()"
   ],
   "cell_type": "code",
   "metadata": {},
   "execution_count": null,
   "outputs": []
  },
  {
   "cell_type": "code",
   "execution_count": null,
   "metadata": {},
   "outputs": [],
   "source": [
    "df.shape"
   ]
  },
  {
   "cell_type": "code",
   "execution_count": null,
   "metadata": {},
   "outputs": [],
   "source": [
    "df.info()"
   ]
  },
  {
   "cell_type": "code",
   "execution_count": null,
   "metadata": {},
   "outputs": [],
   "source": [
    "print('Min x: ', min(df['x']), 'Max x : ', max(df['x'])) \n",
    "print('Min y: ', min(df['y']), 'Max y : ', max(df['y'])) \n",
    "\n",
    "print('x width: ', max(df['x']) - min(df['x']), 'y width: ', max(df['y']) - min(df['y'])) "
   ]
  },
  {
   "cell_type": "code",
   "execution_count": null,
   "metadata": {},
   "outputs": [],
   "source": [
    "minZ = min(df['z'])\n",
    "maxZ = max(df['z'])\n",
    "\n",
    "print('Min z: ', minZ, '  Max z : ', maxZ, '  diff: ', maxZ - minZ )  "
   ]
  },
  {
   "cell_type": "code",
   "execution_count": null,
   "metadata": {},
   "outputs": [],
   "source": [
    "df.hist('x', bins = 500)\n",
    "df.hist('y', bins = 500)\n"
   ]
  },
  {
   "cell_type": "code",
   "execution_count": null,
   "metadata": {},
   "outputs": [],
   "source": [
    "#df.loc[(df['x']<50)].plot.scatter(x='x', y='y', s=0.01, cmap='viridis', c= 'z')"
   ]
  },
  {
   "cell_type": "code",
   "execution_count": null,
   "metadata": {},
   "outputs": [],
   "source": [
    "fig = plt.figure()\n",
    "ax = plt.subplot(111)\n",
    "#df.loc[(df['x']>=30) & (df['x']<=60) & (df['y']>=-100) & (df['y']<=100) & (df['z']>=25) & (df['z']<=45) ].plot(x='x', y='y', ax = ax, s=0.01, cmap='viridis', c= 'z', kind='scatter')\n"
   ]
  },
  {
   "cell_type": "code",
   "execution_count": null,
   "metadata": {},
   "outputs": [],
   "source": [
    "#df_tmp = df.loc[(df['x']>=35) & (df['x']<=235) & (df['y']>=-100) & (df['y']<=100) & (df['z']>=25) & (df['z']<=45)]\n",
    "\n",
    "df_tmp = df.loc[(df['x']>=35) & (df['x']<=240) & (df['y']>=-100) & (df['y']<=100) & (df['z']>=32) & (df['z']<=33)]\n",
    "\n",
    "\n",
    "X = df_tmp['x'].to_numpy()\n",
    "Y = df_tmp['y'].to_numpy()\n",
    "#fig = go.Figure(data=[go.Scattergl(x=Y, y=Y)])\n",
    "#fig.show()"
   ]
  },
  {
   "cell_type": "code",
   "execution_count": null,
   "metadata": {},
   "outputs": [],
   "source": [
    "X.shape"
   ]
  },
  {
   "cell_type": "code",
   "execution_count": null,
   "metadata": {},
   "outputs": [],
   "source": [
    "fig = go.Figure(data=go.Scattergl(\n",
    "    x = df_tmp['x'].to_numpy(),\n",
    "    y = df_tmp['y'].to_numpy(),\n",
    "    \n",
    "    mode='markers',\n",
    "    marker=dict(\n",
    "        color=df_tmp['z'].to_numpy(),\n",
    "        colorscale='Viridis',\n",
    "        size=3\n",
    "        #line_width=0.3\n",
    "    ),\n",
    "    showlegend=True\n",
    "    )\n",
    ")\n",
    "\n",
    "fig.show()\n",
    "\n"
   ]
  },
  {
   "cell_type": "code",
   "execution_count": null,
   "metadata": {},
   "outputs": [],
   "source": [
    "print ('Hello')"
   ]
  },
  {
   "cell_type": "code",
   "execution_count": null,
   "metadata": {},
   "outputs": [],
   "source": []
  },
  {
   "cell_type": "code",
   "execution_count": null,
   "metadata": {},
   "outputs": [],
   "source": [
    "import plotly.express as px\n",
    "fig = px.scatter(df_tmp, x=\"x\", y=\"y\", color=\"z\",\n",
    "                 title=\"mesh flatness\")\n",
    "\n",
    "fig.show()\n"
   ]
  },
  {
   "cell_type": "code",
   "execution_count": null,
   "metadata": {},
   "outputs": [],
   "source": [
    "# some definition to find the mesh region\n",
    "\n",
    "x_min = 37.464  #by eye, starting point of the mesh\n",
    "x_max = 237.347   # by eye, further point of the mesh along the x-axis\n",
    "\n",
    "r = 100  # radious of the mesh\n",
    "x_c = 137.464  # centre of the mesh calculated with the points above\n",
    "y_c = 0 "
   ]
  },
  {
   "cell_type": "code",
   "execution_count": null,
   "metadata": {},
   "outputs": [],
   "source": [
    "df_mesh= df.loc[ ( pow( (df['x'] - x_c),2) + pow( (df['y'] - y_c),2) <= pow(r,2) ) & \n",
    "(df['z']>=32.8) & (df['z']<=34.2)]\n"
   ]
  },
  {
   "cell_type": "code",
   "execution_count": null,
   "metadata": {},
   "outputs": [],
   "source": [
    "df_mesh.head(100)"
   ]
  },
  {
   "cell_type": "code",
   "execution_count": null,
   "metadata": {},
   "outputs": [],
   "source": [
    "fig = px.scatter(df_mesh, x=\"x\", y=\"y\", color=\"z\",\n",
    "                 title=\"mesh flatness\")\n",
    "\n",
    "fig.update_traces(marker=dict(size=2),\n",
    "                  selector=dict(mode='markers'))\n",
    "\n",
    "fig.show()"
   ]
  },
  {
   "cell_type": "code",
   "execution_count": null,
   "metadata": {},
   "outputs": [],
   "source": [
    "df_mesh.hist('z', bins = 300)\n"
   ]
  },
  {
   "cell_type": "code",
   "execution_count": null,
   "metadata": {},
   "outputs": [],
   "source": []
  }
 ]
}